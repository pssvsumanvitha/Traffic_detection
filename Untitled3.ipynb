{
  "nbformat": 4,
  "nbformat_minor": 0,
  "metadata": {
    "colab": {
      "provenance": []
    },
    "kernelspec": {
      "name": "python3",
      "display_name": "Python 3"
    },
    "language_info": {
      "name": "python"
    }
  },
  "cells": [
    {
      "cell_type": "code",
      "execution_count": null,
      "metadata": {
        "id": "Sfdb8NHXPefi"
      },
      "outputs": [],
      "source": []
    },
    {
      "cell_type": "code",
      "source": [
        "from pyspark.sql import SparkSession\n",
        "from pyspark.sql.functions import hour, dayofweek, col, when\n",
        "from pyspark.ml.feature import VectorAssembler\n",
        "from pyspark.ml.classification import RandomForestClassifier\n",
        "from pyspark.ml.evaluation import BinaryClassificationEvaluator, MulticlassClassificationEvaluator\n",
        "from pyspark.ml import Pipeline\n",
        "\n",
        "spark = SparkSession.builder.appName(\"Traffic Intrusion Detection\").getOrCreate()\n",
        "\n",
        "df = spark.read.csv(\"/content/traffic.csv.csv\", header=True, inferSchema=True)\n",
        "\n",
        "df.printSchema()\n",
        "df.show(5)\n",
        "\n",
        "df = df.withColumn(\"Hour\", hour(col(\"DateTime\"))) \\\n",
        "       .withColumn(\"DayOfWeek\", dayofweek(col(\"DateTime\")))\n",
        "\n",
        "df = df.withColumn(\"Intrusion\", when(col(\"Vehicles\") > 20, 1).otherwise(0))\n",
        "\n",
        "feature_cols = [\"Vehicles\", \"Junction\", \"Hour\", \"DayOfWeek\"]\n",
        "assembler = VectorAssembler(inputCols=feature_cols, outputCol=\"features\")\n",
        "\n",
        "rf = RandomForestClassifier(labelCol=\"Intrusion\", featuresCol=\"features\", numTrees=50)\n",
        "pipeline = Pipeline(stages=[assembler, rf])\n",
        "\n",
        "train_data, test_data = df.randomSplit([0.7, 0.3], seed=42)\n",
        "model = pipeline.fit(train_data)\n",
        "predictions = model.transform(test_data)\n",
        "\n",
        "evaluator_auc = BinaryClassificationEvaluator(labelCol=\"Intrusion\", metricName=\"areaUnderROC\")\n",
        "auc = evaluator_auc.evaluate(predictions)\n",
        "print(f\"AUC Score: {auc:.4f}\")\n",
        "\n",
        "evaluator_acc = MulticlassClassificationEvaluator(labelCol=\"Intrusion\", predictionCol=\"prediction\", metricName=\"accuracy\")\n",
        "evaluator_precision = MulticlassClassificationEvaluator(labelCol=\"Intrusion\", predictionCol=\"prediction\", metricName=\"weightedPrecision\")\n",
        "evaluator_recall = MulticlassClassificationEvaluator(labelCol=\"Intrusion\", predictionCol=\"prediction\", metricName=\"weightedRecall\")\n",
        "evaluator_f1 = MulticlassClassificationEvaluator(labelCol=\"Intrusion\", predictionCol=\"prediction\", metricName=\"f1\")\n",
        "\n",
        "accuracy = evaluator_acc.evaluate(predictions)\n",
        "precision = evaluator_precision.evaluate(predictions)\n",
        "recall = evaluator_recall.evaluate(predictions)\n",
        "f1 = evaluator_f1.evaluate(predictions)\n",
        "\n",
        "print(f\"Accuracy: {accuracy:.4f}\")\n",
        "print(f\"Precision: {precision:.4f}\")\n",
        "print(f\"Recall: {recall:.4f}\")\n",
        "print(f\"F1 Score: {f1:.4f}\")\n",
        "\n",
        "predictions.select(\"Vehicles\", \"Junction\", \"Hour\", \"DayOfWeek\", \"Intrusion\", \"prediction\").show(10)\n",
        "\n",
        "spark.stop()\n"
      ],
      "metadata": {
        "colab": {
          "base_uri": "https://localhost:8080/"
        },
        "id": "q9PowC2YPgSA",
        "outputId": "ae2d0447-da11-4920-99f3-7b9cbf93dc12"
      },
      "execution_count": 14,
      "outputs": [
        {
          "output_type": "stream",
          "name": "stdout",
          "text": [
            "root\n",
            " |-- DateTime: timestamp (nullable = true)\n",
            " |-- Junction: integer (nullable = true)\n",
            " |-- Vehicles: integer (nullable = true)\n",
            " |-- ID: long (nullable = true)\n",
            "\n",
            "+-------------------+--------+--------+-----------+\n",
            "|           DateTime|Junction|Vehicles|         ID|\n",
            "+-------------------+--------+--------+-----------+\n",
            "|2015-11-01 00:00:00|       1|      15|20151101001|\n",
            "|2015-11-01 01:00:00|       1|      13|20151101011|\n",
            "|2015-11-01 02:00:00|       1|      10|20151101021|\n",
            "|2015-11-01 03:00:00|       1|       7|20151101031|\n",
            "|2015-11-01 04:00:00|       1|       9|20151101041|\n",
            "+-------------------+--------+--------+-----------+\n",
            "only showing top 5 rows\n",
            "\n",
            "AUC Score: 1.0000\n",
            "Accuracy: 1.0000\n",
            "Precision: 1.0000\n",
            "Recall: 1.0000\n",
            "F1 Score: 1.0000\n",
            "+--------+--------+----+---------+---------+----------+\n",
            "|Vehicles|Junction|Hour|DayOfWeek|Intrusion|prediction|\n",
            "+--------+--------+----+---------+---------+----------+\n",
            "|       9|       3|   0|        1|        0|       0.0|\n",
            "|      10|       1|   2|        1|        0|       0.0|\n",
            "|       5|       3|   2|        1|        0|       0.0|\n",
            "|       7|       1|   3|        1|        0|       0.0|\n",
            "|       7|       2|   4|        1|        0|       0.0|\n",
            "|       2|       3|   4|        1|        0|       0.0|\n",
            "|       6|       1|   5|        1|        0|       0.0|\n",
            "|       4|       2|   6|        1|        0|       0.0|\n",
            "|       8|       1|   7|        1|        0|       0.0|\n",
            "|       4|       3|   7|        1|        0|       0.0|\n",
            "+--------+--------+----+---------+---------+----------+\n",
            "only showing top 10 rows\n",
            "\n"
          ]
        }
      ]
    }
  ]
}